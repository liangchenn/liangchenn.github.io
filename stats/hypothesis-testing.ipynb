{
 "cells": [
  {
   "cell_type": "markdown",
   "id": "1e31f57c-ee68-40f2-b75d-0057197f030c",
   "metadata": {},
   "source": [
    "# Hypothesis Testing\n",
    "\n",
    "- A frequentist method to make statistical inference \n",
    "\n",
    "- Concepts:\n",
    "    - want to know how extreme our observed data is based on the belief\n",
    "    - if the probability of having data more extreme than current data is very small, then we could say the belief may not be correct\n",
    "\n",
    "\n",
    "\n",
    "- Building blocks\n",
    "    - belief: null hypothesis\n",
    "    - level of extreme: limiting distribution \n",
    "    - probability of having data more extreme: p-value"
   ]
  },
  {
   "cell_type": "markdown",
   "id": "1c8a159c-39b3-4f7e-9242-91599ff29180",
   "metadata": {},
   "source": [
    "## Data\n",
    "\n",
    "Now we could generate random samples to illustrate above concepts.\n",
    "\n",
    "First use the i.i.d random sample from binomial distribution.\n"
   ]
  },
  {
   "cell_type": "code",
   "execution_count": 1,
   "id": "dc298a56-7233-4091-be1b-8a21c8de6a25",
   "metadata": {
    "tags": []
   },
   "outputs": [],
   "source": [
    "import numpy as np\n",
    "\n",
    "import matplotlib.pyplot as plt\n",
    "import seaborn as sns"
   ]
  },
  {
   "cell_type": "code",
   "execution_count": 2,
   "id": "3b76fb17-d955-41ba-a398-272228abbbe1",
   "metadata": {
    "tags": []
   },
   "outputs": [],
   "source": [
    "# binomial setups\n",
    "p = 0.05\n",
    "size = 1000\n",
    "\n",
    "# random sample\n",
    "samples = np.random.binomial(n=1, p=p, size=size)"
   ]
  },
  {
   "cell_type": "markdown",
   "id": "e96ede04-4b4e-42a9-a385-30b83deff5d9",
   "metadata": {
    "tags": []
   },
   "source": [
    "Theoratically, the variance of a binomial distribution will follow:  \n",
    "$Var(X) = p \\cdot (1-p)$"
   ]
  },
  {
   "cell_type": "code",
   "execution_count": 3,
   "id": "b461da65-a018-4655-9d3f-71517872c43b",
   "metadata": {
    "tags": []
   },
   "outputs": [
    {
     "name": "stdout",
     "output_type": "stream",
     "text": [
      "Theoratical value: 0.0475\n",
      "Empirical   value: 0.044791\n"
     ]
    }
   ],
   "source": [
    "print(f\"Theoratical value: {p * (1-p)}\")\n",
    "print(f\"Empirical   value: {samples.var()}\")"
   ]
  },
  {
   "cell_type": "markdown",
   "id": "2af4e373-3281-4a0b-8d2f-99cd3dfaad69",
   "metadata": {},
   "source": [
    "## Limiting Distribution\n",
    "\n",
    "We could obtain the limiting distribution mathematically.\n",
    "\n",
    "Goes from sampling distribution (the distribution of statistic);\n",
    "\n",
    "To the limiting distribution (the distribution when size goes to infinitely large)"
   ]
  },
  {
   "cell_type": "markdown",
   "id": "dc2e6e79-9e0e-4d47-8f9e-b1de2b5b35b0",
   "metadata": {},
   "source": [
    "### Sampling Distribution\n",
    "\n",
    "For random sample $X_i \\sim (\\mu, \\sigma^2)$\n",
    "\n",
    "the sampled mean will be $\\bar{X_n} = \\frac{\\sum_i X_i}{n}$, where $n$ is the size of sample\n",
    "\n",
    "Then we will know that:\n",
    "\n",
    "- $E[\\bar X_n] = \\frac{1}{n} \\cdot n \\cdot E[X_i] = \\mu$\n",
    "\n",
    "- $Var(\\bar X_n) = \\frac{1}{n^2} \\cdot n \\cdot Var(X_i) = \\frac{\\sigma^2}{n}$\n",
    "\n",
    "The sampling distribution of sampled mean will be $\\bar X_n \\sim (\\mu, \\frac{\\sigma^2}{n})$"
   ]
  },
  {
   "cell_type": "markdown",
   "id": "5d04a065-5ee4-4bff-80d7-0666b84870f0",
   "metadata": {},
   "source": [
    "### Asymptotic Property\n",
    "\n",
    "By the C.L.T, we know that:\n",
    "\n",
    "As $n \\rightarrow \\infty$, $\\bar X_n \\sim^d N(\\mu, \\frac{\\sigma^2}{n})$"
   ]
  },
  {
   "cell_type": "markdown",
   "id": "ca5a3a37-3ebd-4d4b-a25d-66d529e0ea65",
   "metadata": {},
   "source": [
    "## How could we understand it empirically?\n",
    "\n",
    "Empirically, it is like you repeat the random draw over and over agian,\n",
    "and collect the mean each time. (bootstrapping method)\n",
    "\n",
    "The histogram of the means will be the sampling distribution."
   ]
  },
  {
   "cell_type": "code",
   "execution_count": 4,
   "id": "567c9942-88bb-4f9e-b44a-9e9d6f0255b5",
   "metadata": {
    "tags": []
   },
   "outputs": [],
   "source": [
    "# simulate the random draws for 500 times\n",
    "\n",
    "n_simulation = 500\n",
    "bootstrap_sampled_mean = np.zeros(n_simulation)\n",
    "\n",
    "for i in range(n_simulation):\n",
    "    \n",
    "    bootstrap_samples = np.random.choice(samples, size=len(samples), replace=True)\n",
    "    \n",
    "    bootstrap_sampled_mean[i] = bootstrap_samples.mean()"
   ]
  },
  {
   "cell_type": "code",
   "execution_count": 5,
   "id": "07d2c5e7-fe24-4162-93db-fc8651418c14",
   "metadata": {
    "tags": []
   },
   "outputs": [
    {
     "data": {
      "image/png": "[encoded data removed]",
      "text/plain": [
       "<Figure size 432x288 with 1 Axes>"
      ]
     },
     "metadata": {
      "needs_background": "light"
     },
     "output_type": "display_data"
    }
   ],
   "source": [
    "sns.histplot(bootstrap_sampled_mean, stat='probability')\n",
    "plt.title(fr\"Sampling Distribution for $\\bar X_n$, N={len(samples)}\")\n",
    "plt.show()"
   ]
  },
  {
   "cell_type": "markdown",
   "id": "5d910e66-6549-47a9-8913-d7660e4d25b0",
   "metadata": {},
   "source": [
    "Add the PDF for the empirical and theoratical distribution"
   ]
  },
  {
   "cell_type": "code",
   "execution_count": 6,
   "id": "eee292f8-3e23-4da7-a283-fccad9b6b5b5",
   "metadata": {
    "tags": []
   },
   "outputs": [],
   "source": [
    "from scipy.stats import norm"
   ]
  },
  {
   "cell_type": "code",
   "execution_count": 7,
   "id": "9ebebdcb-3afc-4a9a-9da5-9363bd6eb10b",
   "metadata": {
    "tags": []
   },
   "outputs": [],
   "source": [
    "smean = samples.mean()\n",
    "svar = samples.var() / len(samples)\n",
    "sstd = np.sqrt(svar)"
   ]
  },
  {
   "cell_type": "code",
   "execution_count": 8,
   "id": "5078de43-2cfd-4129-a89f-6d7aaf71466e",
   "metadata": {
    "tags": []
   },
   "outputs": [
    {
     "data": {
      "image/png": "[encoded data removed]",
      "text/plain": [
       "<Figure size 432x288 with 1 Axes>"
      ]
     },
     "metadata": {
      "needs_background": "light"
     },
     "output_type": "display_data"
    }
   ],
   "source": [
    "sns.kdeplot(bootstrap_sampled_mean, label='empirical', color='salmon')\n",
    "sns.lineplot(\n",
    "    x=(x := np.linspace(min(bootstrap_sampled_mean), max(bootstrap_sampled_mean))), \n",
    "    y=norm.pdf(x, loc=smean, scale=sstd),\n",
    "    color='skyblue',\n",
    "    label='theoratical'\n",
    ")\n",
    "plt.title(fr\"PDF for $\\bar X_n$, N={len(samples)}\")\n",
    "plt.legend()\n",
    "plt.show()"
   ]
  },
  {
   "cell_type": "markdown",
   "id": "bb515c00-5bdf-4c41-ad6f-136b92fddc1b",
   "metadata": {},
   "source": [
    "## Hypothesis Testing\n",
    "\n",
    "Now suppose we want to know if the mean is $p = 0.075$\n",
    "\n",
    "We construct the belief, the null hypothesis, $H_0: p = 0.075$\n",
    "\n",
    "Given the null hypothesis is true we construct the theoratical distribution for sampled mean."
   ]
  },
  {
   "cell_type": "code",
   "execution_count": 9,
   "id": "3a060352-4534-4e6b-b346-ee546e63c2a2",
   "metadata": {
    "tags": []
   },
   "outputs": [],
   "source": [
    "smean = 0.075\n",
    "svar = smean * (1-smean) / size\n",
    "sstd = np.sqrt(sstd)"
   ]
  },
  {
   "cell_type": "code",
   "execution_count": 10,
   "id": "733477f6-3f18-4729-9902-09aa5329f515",
   "metadata": {
    "tags": []
   },
   "outputs": [],
   "source": [
    "x = np.linspace(smean - 3 * sstd, smean + 3 * sstd)\n",
    "y = norm.pdf(x, loc=smean, scale=sstd)"
   ]
  },
  {
   "cell_type": "code",
   "execution_count": 11,
   "id": "744c1f1b-08dc-4013-8f06-79114f775eba",
   "metadata": {
    "tags": []
   },
   "outputs": [
    {
     "data": {
      "image/png": "[encoded data removed]",
      "text/plain": [
       "<Figure size 432x288 with 1 Axes>"
      ]
     },
     "metadata": {
      "needs_background": "light"
     },
     "output_type": "display_data"
    }
   ],
   "source": [
    "sns.lineplot(x=x, y=y, label='theoratical')\n",
    "plt.axvline(x=samples.mean(), linestyle='-', color='salmon', label='observed mean')\n",
    "plt.legend()\n",
    "plt.show()"
   ]
  },
  {
   "cell_type": "markdown",
   "id": "97569b95-b54e-46db-a465-1e74f0d5a917",
   "metadata": {},
   "source": [
    "Obtain the probability $Pr(X <= observed\\_mean | H0)$"
   ]
  },
  {
   "cell_type": "code",
   "execution_count": 12,
   "id": "6c136124-46f0-4efa-a58a-83dfafae53e8",
   "metadata": {
    "tags": []
   },
   "outputs": [
    {
     "data": {
      "text/plain": [
       "0.3660763734790762"
      ]
     },
     "execution_count": 12,
     "metadata": {},
     "output_type": "execute_result"
    }
   ],
   "source": [
    "norm.cdf(samples.mean(), loc=smean, scale=sstd)"
   ]
  },
  {
   "cell_type": "markdown",
   "id": "3ea02462-cba5-4168-98f6-839d61d96d18",
   "metadata": {},
   "source": [
    "### Compare to the test functions"
   ]
  },
  {
   "cell_type": "code",
   "execution_count": 13,
   "id": "141d65d8-cd70-460d-8c57-8289f282fee5",
   "metadata": {
    "tags": []
   },
   "outputs": [],
   "source": [
    "from statsmodels.stats.proportion import proportions_ztest\n",
    "from scipy.stats import ttest_1samp"
   ]
  },
  {
   "cell_type": "code",
   "execution_count": 14,
   "id": "0753bc0b-4d13-489e-87af-ee8b48572da3",
   "metadata": {
    "tags": []
   },
   "outputs": [
    {
     "data": {
      "text/plain": [
       "Ttest_1sampResult(statistic=-4.181628010126493, pvalue=3.1483606196336255e-05)"
      ]
     },
     "execution_count": 14,
     "metadata": {},
     "output_type": "execute_result"
    }
   ],
   "source": [
    "ttest_1samp(samples, popmean=0.075)"
   ]
  },
  {
   "cell_type": "code",
   "execution_count": 15,
   "id": "bf99d6f4-5967-450c-80ce-12a071a64da0",
   "metadata": {
    "tags": []
   },
   "outputs": [
    {
     "data": {
      "text/plain": [
       "(-4.183720393549963, 2.867767991818581e-05)"
      ]
     },
     "execution_count": 15,
     "metadata": {},
     "output_type": "execute_result"
    }
   ],
   "source": [
    "proportions_ztest(samples.sum(), len(samples), value=0.075)"
   ]
  },
  {
   "cell_type": "code",
   "execution_count": 16,
   "id": "5306e7a4-1f5c-4643-9b46-2d9979b94df4",
   "metadata": {
    "tags": []
   },
   "outputs": [],
   "source": [
    "smean = samples.mean() - 0.075\n",
    "sstd = samples.std() / np.sqrt(len(samples))"
   ]
  },
  {
   "cell_type": "code",
   "execution_count": 17,
   "id": "8e1e6191-1566-4fe7-8dc0-a0681ef68a96",
   "metadata": {
    "tags": []
   },
   "outputs": [
    {
     "data": {
      "image/png": "[encoded data removed]",
      "text/plain": [
       "<Figure size 432x288 with 1 Axes>"
      ]
     },
     "metadata": {
      "needs_background": "light"
     },
     "output_type": "display_data"
    }
   ],
   "source": [
    "sns.lineplot(x=(x:=np.linspace(-4, 4)), y=norm.pdf(x, loc=0, scale=1), label='theoratical')\n",
    "plt.axvline(x=samples.mean() - 0.075, linestyle='-', color='salmon', label='observed mean')\n",
    "plt.legend()\n",
    "plt.show()"
   ]
  },
  {
   "cell_type": "markdown",
   "id": "b5be73f5-2630-4c1a-b574-0c8e6a077e87",
   "metadata": {},
   "source": [
    "### [ToDo] Why the results are different"
   ]
  }
 ],
 "metadata": {
  "kernelspec": {
   "display_name": "Python 3 (ipykernel)",
   "language": "python",
   "name": "python3"
  },
  "language_info": {
   "codemirror_mode": {
    "name": "ipython",
    "version": 3
   },
   "file_extension": ".py",
   "mimetype": "text/x-python",
   "name": "python",
   "nbconvert_exporter": "python",
   "pygments_lexer": "ipython3",
   "version": "3.9.5"
  }
 },
 "nbformat": 4,
 "nbformat_minor": 5
}
